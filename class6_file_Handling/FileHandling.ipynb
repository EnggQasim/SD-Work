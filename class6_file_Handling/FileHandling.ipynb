{
 "cells": [
  {
   "cell_type": "markdown",
   "metadata": {},
   "source": [
    "# Linux command (CMD)"
   ]
  },
  {
   "cell_type": "code",
   "execution_count": 5,
   "metadata": {},
   "outputs": [
    {
     "name": "stdout",
     "output_type": "stream",
     "text": [
      "FileHandling.ipynb  new_folder\r\n"
     ]
    }
   ],
   "source": [
    "!ls  # read list files and folder"
   ]
  },
  {
   "cell_type": "code",
   "execution_count": 2,
   "metadata": {},
   "outputs": [],
   "source": [
    "!mkdir new_folder # make new folder"
   ]
  },
  {
   "cell_type": "code",
   "execution_count": 3,
   "metadata": {},
   "outputs": [],
   "source": [
    "!touch new_folder/abc.txt #make new file"
   ]
  },
  {
   "cell_type": "code",
   "execution_count": 4,
   "metadata": {},
   "outputs": [],
   "source": [
    "!cat new_folder/abc.txt # read file"
   ]
  },
  {
   "cell_type": "code",
   "execution_count": 11,
   "metadata": {},
   "outputs": [],
   "source": [
    "!echo 'Pakistan zinda bad \\n WE love our country'>> new_folder/file.txt "
   ]
  },
  {
   "cell_type": "markdown",
   "metadata": {},
   "source": [
    "# File Handling"
   ]
  },
  {
   "cell_type": "code",
   "execution_count": 12,
   "metadata": {},
   "outputs": [
    {
     "data": {
      "text/plain": [
       "<_io.TextIOWrapper name='new_folder/file.txt' mode='r' encoding='UTF-8'>"
      ]
     },
     "execution_count": 12,
     "metadata": {},
     "output_type": "execute_result"
    }
   ],
   "source": [
    "a = open(\"new_folder/file.txt\")\n",
    "a"
   ]
  },
  {
   "cell_type": "code",
   "execution_count": 16,
   "metadata": {},
   "outputs": [
    {
     "name": "stdout",
     "output_type": "stream",
     "text": [
      "Pakistan zinda bad \n",
      "\n",
      " WE love our country\n",
      "\n"
     ]
    }
   ],
   "source": [
    "a = open(\"new_folder/file.txt\")\n",
    "print(next(a))\n",
    "print(next(a))"
   ]
  },
  {
   "cell_type": "code",
   "execution_count": 15,
   "metadata": {},
   "outputs": [
    {
     "data": {
      "text/plain": [
       "['Pakistan zinda bad \\n', ' WE love our country\\n']"
      ]
     },
     "execution_count": 15,
     "metadata": {},
     "output_type": "execute_result"
    }
   ],
   "source": [
    "a = open(\"new_folder/file.txt\")\n",
    "list(a)"
   ]
  },
  {
   "cell_type": "code",
   "execution_count": 17,
   "metadata": {},
   "outputs": [
    {
     "name": "stdout",
     "output_type": "stream",
     "text": [
      "Pakistan zinda bad \n",
      " WE love our country\n",
      "\n"
     ]
    }
   ],
   "source": [
    "a = open(\"new_folder/file.txt\")\n",
    "print(a.read())# read all file contents\n",
    "a.close()# we should close connection"
   ]
  },
  {
   "cell_type": "code",
   "execution_count": 18,
   "metadata": {},
   "outputs": [
    {
     "name": "stdout",
     "output_type": "stream",
     "text": [
      "Pakistan zinda bad \n",
      "\n"
     ]
    }
   ],
   "source": [
    "a = open(\"new_folder/file.txt\")\n",
    "print(a.readline())# read single line\n",
    "a.close()# we should close connection"
   ]
  },
  {
   "cell_type": "code",
   "execution_count": 20,
   "metadata": {},
   "outputs": [
    {
     "name": "stdout",
     "output_type": "stream",
     "text": [
      "['Pakistan zinda bad \\n', 'WE love our country\\n']\n"
     ]
    }
   ],
   "source": [
    "a = open(\"new_folder/file.txt\")\n",
    "print(a.readlines())# read single all lines\n",
    "a.close()# we should close connection"
   ]
  },
  {
   "cell_type": "code",
   "execution_count": 21,
   "metadata": {},
   "outputs": [],
   "source": [
    "# we always think about connect opening and closing\n",
    "# now we can use with block which automatically handle above boths things"
   ]
  },
  {
   "cell_type": "markdown",
   "metadata": {},
   "source": [
    "### with block"
   ]
  },
  {
   "cell_type": "code",
   "execution_count": 23,
   "metadata": {},
   "outputs": [
    {
     "name": "stdout",
     "output_type": "stream",
     "text": [
      "Pakistan zinda bad \n",
      "WE love our country\n",
      "\n"
     ]
    }
   ],
   "source": [
    "with open(\"new_folder/file.txt\") as f:\n",
    "    print(f.read())\n",
    "    "
   ]
  },
  {
   "cell_type": "code",
   "execution_count": 28,
   "metadata": {},
   "outputs": [
    {
     "name": "stdout",
     "output_type": "stream",
     "text": [
      "Pakistan zinda bad \n",
      "\n",
      "['WE love our country\\n']\n"
     ]
    }
   ],
   "source": [
    "with open(\"new_folder/file.txt\") as f:\n",
    "#     print(f.read())\n",
    "    print(f.readline())\n",
    "    print(f.readlines())"
   ]
  },
  {
   "cell_type": "markdown",
   "metadata": {},
   "source": [
    "# Python File modes\n",
    "https://www.programiz.com/python-programming/file-operation"
   ]
  },
  {
   "cell_type": "code",
   "execution_count": 30,
   "metadata": {},
   "outputs": [
    {
     "name": "stdout",
     "output_type": "stream",
     "text": [
      "['Pakistan zinda bad \\n', 'WE love our country\\n']\n"
     ]
    }
   ],
   "source": [
    "with open(\"new_folder/file.txt\", mode='r') as f:\n",
    "    print(f.readlines())"
   ]
  },
  {
   "cell_type": "code",
   "execution_count": 31,
   "metadata": {},
   "outputs": [
    {
     "name": "stdout",
     "output_type": "stream",
     "text": [
      "['Pakistan zinda bad \\n', 'WE love our country\\n']\n"
     ]
    },
    {
     "ename": "UnsupportedOperation",
     "evalue": "not writable",
     "output_type": "error",
     "traceback": [
      "\u001b[0;31m----------------------------------------------------------------------\u001b[0m",
      "\u001b[0;31mUnsupportedOperation\u001b[0m                 Traceback (most recent call last)",
      "\u001b[0;32m<ipython-input-31-f03803025733>\u001b[0m in \u001b[0;36m<module>\u001b[0;34m\u001b[0m\n\u001b[1;32m      1\u001b[0m \u001b[0;32mwith\u001b[0m \u001b[0mopen\u001b[0m\u001b[0;34m(\u001b[0m\u001b[0;34m\"new_folder/file.txt\"\u001b[0m\u001b[0;34m,\u001b[0m \u001b[0mmode\u001b[0m\u001b[0;34m=\u001b[0m\u001b[0;34m'r'\u001b[0m\u001b[0;34m)\u001b[0m \u001b[0;32mas\u001b[0m \u001b[0mf\u001b[0m\u001b[0;34m:\u001b[0m\u001b[0;34m\u001b[0m\u001b[0;34m\u001b[0m\u001b[0m\n\u001b[1;32m      2\u001b[0m     \u001b[0mprint\u001b[0m\u001b[0;34m(\u001b[0m\u001b[0mf\u001b[0m\u001b[0;34m.\u001b[0m\u001b[0mreadlines\u001b[0m\u001b[0;34m(\u001b[0m\u001b[0;34m)\u001b[0m\u001b[0;34m)\u001b[0m\u001b[0;34m\u001b[0m\u001b[0;34m\u001b[0m\u001b[0m\n\u001b[0;32m----> 3\u001b[0;31m     \u001b[0mf\u001b[0m\u001b[0;34m.\u001b[0m\u001b[0mwrite\u001b[0m\u001b[0;34m(\u001b[0m\u001b[0;34m\"Hello World!\"\u001b[0m\u001b[0;34m)\u001b[0m\u001b[0;34m\u001b[0m\u001b[0;34m\u001b[0m\u001b[0m\n\u001b[0m",
      "\u001b[0;31mUnsupportedOperation\u001b[0m: not writable"
     ]
    }
   ],
   "source": [
    "with open(\"new_folder/file.txt\", mode='r') as f:\n",
    "    print(f.readlines())\n",
    "    f.write(\"Hello World!\")"
   ]
  },
  {
   "cell_type": "code",
   "execution_count": 37,
   "metadata": {},
   "outputs": [
    {
     "name": "stdout",
     "output_type": "stream",
     "text": [
      "['Pakistan zinda bad \\n', 'WE love our country\\n']\n"
     ]
    }
   ],
   "source": [
    "with open(\"new_folder/file.txt\", mode='r+') as f:   \n",
    "    f.write(\"Hello World!\")\n",
    "    print(f.readlines())"
   ]
  },
  {
   "cell_type": "code",
   "execution_count": 39,
   "metadata": {},
   "outputs": [],
   "source": [
    "with open(\"new_folder/file.txt\", mode='r+') as f:   \n",
    "    a = list(reversed(f.readlines()))\n",
    "    b = list(reversed(['A',\"B\",\"C\"]))\n",
    "    c = a + b\n",
    "    d = \"-->\".join(c)\n",
    "    f.seek(0)\n",
    "    f.write(d)"
   ]
  },
  {
   "cell_type": "code",
   "execution_count": 40,
   "metadata": {},
   "outputs": [],
   "source": [
    "with open(\"new_folder/abc2.txt\", mode='w') as f:# create if not exist/ overwrite\n",
    "    f.write(\"Pakista zinda bad!\")"
   ]
  },
  {
   "cell_type": "code",
   "execution_count": 43,
   "metadata": {},
   "outputs": [],
   "source": [
    "with open(\"new_folder/abc2.txt\", mode='w') as f:# create if not exist/ overwrite\n",
    "    f.write(\"WE love our country!\")"
   ]
  },
  {
   "cell_type": "code",
   "execution_count": 44,
   "metadata": {},
   "outputs": [],
   "source": [
    "with open(\"new_folder/abc2.txt\", mode='a') as f:# create if not exist/ overwrite\n",
    "    f.write(\"Hello World\")"
   ]
  },
  {
   "cell_type": "code",
   "execution_count": 45,
   "metadata": {},
   "outputs": [
    {
     "name": "stdout",
     "output_type": "stream",
     "text": [
      "['WE love our country!Hello WorldHello World3\\n', '!']\n"
     ]
    }
   ],
   "source": [
    "with open(\"new_folder/abc2.txt\", 'a+') as f:\n",
    "    f.write(\"Hello World3\\n!\")\n",
    "    f.seek(0)\n",
    "    c = f.readlines()\n",
    "    print(c)"
   ]
  },
  {
   "cell_type": "code",
   "execution_count": 48,
   "metadata": {},
   "outputs": [
    {
     "data": {
      "text/plain": [
       "array([[  1,   2,   3,   4,   5,   6,   7,   8,   9,  10],\n",
       "       [ 11,  12,  13,  14,  15,  16,  17,  18,  19,  20],\n",
       "       [ 21,  22,  23,  24,  25,  26,  27,  28,  29,  30],\n",
       "       [ 31,  32,  33,  34,  35,  36,  37,  38,  39,  40],\n",
       "       [ 41,  42,  43,  44,  45,  46,  47,  48,  49,  50],\n",
       "       [ 51,  52,  53,  54,  55,  56,  57,  58,  59,  60],\n",
       "       [ 61,  62,  63,  64,  65,  66,  67,  68,  69,  70],\n",
       "       [ 71,  72,  73,  74,  75,  76,  77,  78,  79,  80],\n",
       "       [ 81,  82,  83,  84,  85,  86,  87,  88,  89,  90],\n",
       "       [ 91,  92,  93,  94,  95,  96,  97,  98,  99, 100]])"
      ]
     },
     "execution_count": 48,
     "metadata": {},
     "output_type": "execute_result"
    }
   ],
   "source": [
    "import numpy as np\n",
    "\n",
    "a = np.arange(1,101).reshape((10,10))\n",
    "a"
   ]
  },
  {
   "cell_type": "code",
   "execution_count": 49,
   "metadata": {},
   "outputs": [
    {
     "data": {
      "text/plain": [
       "array([[  8,   9,  10,  11,  12,  13,  14,  15,  16,  17],\n",
       "       [ 18,  19,  20,  21,  22,  23,  24,  25,  26,  27],\n",
       "       [ 28,  29,  30,  31,  32,  33,  34,  35,  36,  37],\n",
       "       [ 38,  39,  40,  41,  42,  43,  44,  45,  46,  47],\n",
       "       [ 48,  49,  50,  51,  52,  53,  54,  55,  56,  57],\n",
       "       [ 58,  59,  60,  61,  62,  63,  64,  65,  66,  67],\n",
       "       [ 68,  69,  70,  71,  72,  73,  74,  75,  76,  77],\n",
       "       [ 78,  79,  80,  81,  82,  83,  84,  85,  86,  87],\n",
       "       [ 88,  89,  90,  91,  92,  93,  94,  95,  96,  97],\n",
       "       [ 98,  99, 100, 101, 102, 103, 104, 105, 106, 107]])"
      ]
     },
     "execution_count": 49,
     "metadata": {},
     "output_type": "execute_result"
    }
   ],
   "source": [
    "a + 7"
   ]
  },
  {
   "cell_type": "code",
   "execution_count": null,
   "metadata": {},
   "outputs": [],
   "source": []
  }
 ],
 "metadata": {
  "kernelspec": {
   "display_name": "Python 3",
   "language": "python",
   "name": "python3"
  },
  "language_info": {
   "codemirror_mode": {
    "name": "ipython",
    "version": 3
   },
   "file_extension": ".py",
   "mimetype": "text/x-python",
   "name": "python",
   "nbconvert_exporter": "python",
   "pygments_lexer": "ipython3",
   "version": "3.7.6"
  }
 },
 "nbformat": 4,
 "nbformat_minor": 4
}
